{
 "cells": [
  {
   "cell_type": "code",
   "execution_count": 3,
   "id": "f2187020",
   "metadata": {},
   "outputs": [],
   "source": [
    "#common packages we basically always need\n",
    "import numpy as np\n",
    "import matplotlib.pyplot as plt\n",
    "import time"
   ]
  },
  {
   "cell_type": "code",
   "execution_count": 4,
   "id": "4db3727d",
   "metadata": {},
   "outputs": [
    {
     "name": "stdout",
     "output_type": "stream",
     "text": [
      "{'__header__': b'MATLAB 5.0 MAT-file Platform: posix, Created on: Wed Oct 18 19:00:09 2017', '__version__': '1.0', '__globals__': [], 'testX': array([[0, 0, 0, ..., 0, 0, 0],\n",
      "       [0, 0, 0, ..., 0, 0, 0],\n",
      "       [0, 0, 0, ..., 0, 0, 0],\n",
      "       ...,\n",
      "       [0, 0, 0, ..., 0, 0, 0],\n",
      "       [0, 0, 0, ..., 0, 0, 0],\n",
      "       [0, 0, 0, ..., 0, 0, 0]], dtype=uint8), 'testY': array([[7, 2, 1, ..., 4, 5, 6]], dtype=uint8), 'trainY': array([[5, 0, 4, ..., 5, 6, 8]], dtype=uint8), 'trainX': array([[0, 0, 0, ..., 0, 0, 0],\n",
      "       [0, 0, 0, ..., 0, 0, 0],\n",
      "       [0, 0, 0, ..., 0, 0, 0],\n",
      "       ...,\n",
      "       [0, 0, 0, ..., 0, 0, 0],\n",
      "       [0, 0, 0, ..., 0, 0, 0],\n",
      "       [0, 0, 0, ..., 0, 0, 0]], dtype=uint8)}\n"
     ]
    },
    {
     "data": {
      "image/png": "[encoded data removed]",
      "text/plain": [
       "<Figure size 432x288 with 9 Axes>"
      ]
     },
     "metadata": {
      "needs_background": "light"
     },
     "output_type": "display_data"
    }
   ],
   "source": [
    "#load the MNIST dataset with binary pixel values\n",
    "import scipy.io as sio\n",
    "data = sio.loadmat('mnist.mat')\n",
    "print(data)\n",
    "\n",
    "\n",
    "\n",
    "Xtrain, Xtest = data['trainX'].astype(float), data['testX'].astype(float)\n",
    "ytrain, ytest = data['trainY'][0], data['testY'][0]\n",
    "\n",
    "#pull and plot some samples\n",
    "for k in range(9):\n",
    "    plot_data = Xtrain[k,:]\n",
    "    plot_data = np.reshape(plot_data,(28,28))\n",
    "    plot_label = ytrain[k]\n",
    "    plt.subplot(3,3,k+1)\n",
    "    plt.imshow(plot_data)\n",
    "    plt.title(plot_label)\n",
    "plt.tight_layout()\n",
    "\n",
    "def get_small_dataset(X,y,m):\n",
    "    return X[:m,:],y[:m]\n",
    "\n",
    "\n",
    "num_labels = len(np.unique(ytrain))\n",
    "num_feats = Xtrain.shape[1]"
   ]
  },
  {
   "cell_type": "code",
   "execution_count": 5,
   "id": "27ea988b",
   "metadata": {},
   "outputs": [
    {
     "name": "stdout",
     "output_type": "stream",
     "text": [
      "0.0\n",
      "6069462.0\n",
      "5661744.0\n"
     ]
    }
   ],
   "source": [
    "\n",
    "def get_dist(Xtrain,zquery):\n",
    "    dist = np.sum((Xtrain-zquery)**2,axis=1)\n",
    "    return dist\n",
    "    \n",
    "print(get_dist(Xtrain,Xtrain[0,:])[0])\n",
    "print(get_dist(Xtrain,Xtest[0,:])[10])\n",
    "print(get_dist(Xtrain,Xtest[10,:])[50])\n",
    "\n",
    "\n"
   ]
  },
  {
   "cell_type": "code",
   "execution_count": 6,
   "id": "2650aba5",
   "metadata": {},
   "outputs": [
    {
     "name": "stdout",
     "output_type": "stream",
     "text": [
      "[7 2 1 0 4 1 4 4 6 9 0 0 9 0 1 9 7 7 3 4]\n",
      "[7 2 1 0 4 1 4 9 5 9 0 6 9 0 1 5 9 7 3 4]\n"
     ]
    }
   ],
   "source": [
    "import scipy.stats as ss\n",
    "\n",
    "m = 100\n",
    "K = 3\n",
    "\n",
    "Xtrain_small, ytrain_small = get_small_dataset(Xtrain,ytrain,m)\n",
    "\n",
    "def pred(zquery,Xtrain,ytrain, K):\n",
    "    distances = get_dist(Xtrain,zquery)\n",
    "    sortedIndices = np.argsort(distances)\n",
    "    kNearestNeighborsIndices = sortedIndices[0:K]\n",
    "    yPrediction = ss.mode(ytrain[kNearestNeighborsIndices])[0][0]\n",
    "    return yPrediction\n",
    "    \n",
    "ytest_pred = ytest + 0    \n",
    "for k in range(Xtest.shape[0]):\n",
    "    z = Xtest[k,:]\n",
    "    ytest_pred[k] = pred(z,Xtrain_small, ytrain_small, K)\n",
    "    \n",
    "print(ytest_pred[:20])\n",
    "print(ytest[:20])"
   ]
  },
  {
   "cell_type": "code",
   "execution_count": 7,
   "id": "eac910ab",
   "metadata": {},
   "outputs": [
    {
     "data": {
      "text/plain": [
       "0.6476"
      ]
     },
     "execution_count": 7,
     "metadata": {},
     "output_type": "execute_result"
    }
   ],
   "source": [
    "def get_accuracy(ytest, ypred):\n",
    "    filteredList = [1 if ytest[i] == ypred[i] else 0 for i in range(len(ytest))]\n",
    "    return sum(filteredList)/len(ytest)\n",
    "\n",
    "get_accuracy(ytest,ytest_pred)"
   ]
  },
  {
   "cell_type": "code",
   "execution_count": 8,
   "id": "c6fa75de",
   "metadata": {},
   "outputs": [
    {
     "name": "stdout",
     "output_type": "stream",
     "text": [
      "100 1 0.6794 2.0394585132598877\n",
      "100 3 0.6476 2.0584628582000732\n",
      "100 5 0.6232 2.0714657306671143\n",
      "1000 1 0.869 36.99982404708862\n",
      "1000 3 0.8622 42.354533433914185\n",
      "1000 5 0.8582 31.10049819946289\n",
      "2500 1 0.9136 93.69359421730042\n",
      "2500 3 0.9146 96.70578742027283\n",
      "2500 5 0.9101 99.20287537574768\n"
     ]
    }
   ],
   "source": [
    "import time\n",
    "for m in [100,1000, 2500]:\n",
    "    Xtrain_small, ytrain_small = get_small_dataset(Xtrain,ytrain,m)\n",
    "    for K in [1,3,5]:\n",
    "        \n",
    "        start = time.time()\n",
    "        ytest_pred = ytest + 0    \n",
    "        for k in range(Xtest.shape[0]):\n",
    "            z = Xtest[k,:]\n",
    "            ytest_pred[k] = pred(z,Xtrain_small, ytrain_small, K)\n",
    "    \n",
    "        print(m,K,get_accuracy(ytest,ytest_pred), time.time()-start)"
   ]
  }
 ],
 "metadata": {
  "kernelspec": {
   "display_name": "Python 3.9.12",
   "language": "python",
   "name": "python3"
  },
  "language_info": {
   "codemirror_mode": {
    "name": "ipython",
    "version": 3
   },
   "file_extension": ".py",
   "mimetype": "text/x-python",
   "name": "python",
   "nbconvert_exporter": "python",
   "pygments_lexer": "ipython3",
   "version": "3.9.12"
  },
  "vscode": {
   "interpreter": {
    "hash": "0dc2fd043a8482d8110fc568899369c1e4bc80d83650aa995e9527605d230520"
   }
  }
 },
 "nbformat": 4,
 "nbformat_minor": 5
}
